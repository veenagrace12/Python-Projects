{
 "cells": [
  {
   "cell_type": "markdown",
   "id": "d4eb6dc9",
   "metadata": {},
   "source": [
    "## Number Guessing Game"
   ]
  },
  {
   "cell_type": "code",
   "execution_count": 1,
   "id": "30914c32",
   "metadata": {},
   "outputs": [
    {
     "name": "stdout",
     "output_type": "stream",
     "text": [
      "Guess the randomly generated number from 1 to 50\n",
      "Enter the guessed number: 45\n",
      " Your number is greater than the random number\n",
      "Enter the guessed number: 35\n",
      " Your number is less than the random number\n",
      "Enter the guessed number: 44\n",
      " Your number is greater than the random number\n",
      "Enter the guessed number: 37\n",
      " Your number is less than the random number\n",
      "Enter the guessed number: 42\n",
      " Your number is greater than the random number\n",
      "Enter the guessed number: 38\n",
      " Your number is less than the random number\n",
      "Enter the guessed number: 40\n",
      " You lost the game. You are out of chances\n"
     ]
    }
   ],
   "source": [
    "import random\n",
    "\n",
    "class NumberGuessingGame:\n",
    "\n",
    "    def __init__(self):\n",
    "        ## define the range\n",
    "        self.LOWER = 1\n",
    "        self.HIGHER = 50\n",
    "        self.MAX_CHANCES = 6\n",
    "    ## method to generate the random number\n",
    "    def get_random_number(self):\n",
    "        return random.randint(self.LOWER, self.HIGHER)\n",
    "\n",
    "    ## game start method\n",
    "    def start(self):\n",
    "        ## generating the random number\n",
    "        random_number = self.get_random_number()\n",
    "\n",
    "        print(\n",
    "            f\"Guess the randomly generated number from {self.LOWER} to {self.HIGHER}\")\n",
    "\n",
    "        ## heart of the game\n",
    "        chances = 0\n",
    "        while True:\n",
    "            user_number = int(input(\"Enter the guessed number: \"))\n",
    "            if user_number == random_number:\n",
    "                print(\n",
    "                    f\" Hurray! You got it in {chances + 1} step{'s' if chances > 1 else ''}!\")\n",
    "                break\n",
    "            if chances == self.MAX_CHANCES:\n",
    "                print(\" You lost the game. You are out of chances\")\n",
    "                break\n",
    "            elif user_number < random_number:\n",
    "                print(\" Your number is less than the random number\")\n",
    "            else:\n",
    "                print(\" Your number is greater than the random number\")\n",
    "            chances += 1\n",
    "\n",
    "## instantiating and starting the game\n",
    "numberGuessingGame = NumberGuessingGame()\n",
    "numberGuessingGame.start()"
   ]
  },
  {
   "cell_type": "code",
   "execution_count": null,
   "id": "8d0652c5",
   "metadata": {},
   "outputs": [],
   "source": []
  }
 ],
 "metadata": {
  "kernelspec": {
   "display_name": "Python 3 (ipykernel)",
   "language": "python",
   "name": "python3"
  },
  "language_info": {
   "codemirror_mode": {
    "name": "ipython",
    "version": 3
   },
   "file_extension": ".py",
   "mimetype": "text/x-python",
   "name": "python",
   "nbconvert_exporter": "python",
   "pygments_lexer": "ipython3",
   "version": "3.9.7"
  }
 },
 "nbformat": 4,
 "nbformat_minor": 5
}
