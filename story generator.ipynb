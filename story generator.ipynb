{
 "cells": [
  {
   "cell_type": "code",
   "execution_count": 1,
   "id": "75e524fc",
   "metadata": {},
   "outputs": [
    {
     "name": "stdout",
     "output_type": "stream",
     "text": [
      "Once upon a time there lived a farmer. One full-moon night she was going for a trip to the river side she saw a man who seemed to be hurry searching something.\n"
     ]
    }
   ],
   "source": [
    "# Importing random module\n",
    "import random\n",
    "  \n",
    "# Defining list of phrases which will help to build a story\n",
    "  \n",
    "Sentence_starter = ['Last year', ' In the 20BC', 'Once upon a time']\n",
    "character = [' there lived a farmer.',' there was a woman named Rina.',\n",
    "             ' there lived a socialist.']\n",
    "time = [' One fine day', ' One full-moon night','at midnight']\n",
    "story_plot = [' she was passing by',' she was going for a trip to ']\n",
    "place = [' the mountains', ' the garden','the river side','to beach side']\n",
    "second_character = [' she saw a man', ' she saw a young handsome boy']\n",
    "age = [' who seemed to be hurry', ' who seemed very old and feeble',' who seemed to be very attractive']\n",
    "work = [' searching something.', ' digging a well on roadside.']\n",
    "\n",
    "# Selecting an item from each list and concatenating them.\n",
    "print(random.choice(Sentence_starter)+random.choice(character)+\n",
    "      random.choice(time)+random.choice(story_plot) +\n",
    "      random.choice(place)+random.choice(second_character)+\n",
    "      random.choice(age)+random.choice(work))"
   ]
  },
  {
   "cell_type": "code",
   "execution_count": 2,
   "id": "96f4ac19",
   "metadata": {},
   "outputs": [
    {
     "name": "stdout",
     "output_type": "stream",
     "text": [
      "A long time ago, Mojesh that lived in Germany, went to the seminar and wrote a book\n"
     ]
    }
   ],
   "source": [
    "import random\n",
    "when = ['A few years ago', 'Yesterday', 'Last night', 'A long time ago','On 20th Jan']\n",
    "who = ['Avi', 'Dany', 'Mojesh', 'Tinku','Adam']\n",
    "residence = ['Barcelona','India', 'Germany', 'Venice', 'England']\n",
    "went = ['cinema', 'university','seminar', 'school', 'laundry']\n",
    "happened = ['made a lot of friends','Eats a burger', 'found a secret key', 'solved a mistery', 'wrote a book']\n",
    "print(random.choice(when) + ', ' + random.choice(who) + ' that lived in ' + random.choice(residence) + ', went to the ' + \n",
    "      random.choice(went) + ' and ' + random.choice(happened))"
   ]
  },
  {
   "cell_type": "code",
   "execution_count": null,
   "id": "b3838f27",
   "metadata": {},
   "outputs": [],
   "source": []
  }
 ],
 "metadata": {
  "kernelspec": {
   "display_name": "Python 3 (ipykernel)",
   "language": "python",
   "name": "python3"
  },
  "language_info": {
   "codemirror_mode": {
    "name": "ipython",
    "version": 3
   },
   "file_extension": ".py",
   "mimetype": "text/x-python",
   "name": "python",
   "nbconvert_exporter": "python",
   "pygments_lexer": "ipython3",
   "version": "3.9.7"
  }
 },
 "nbformat": 4,
 "nbformat_minor": 5
}
